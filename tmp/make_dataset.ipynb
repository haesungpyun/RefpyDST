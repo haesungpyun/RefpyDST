{
 "cells": [
  {
   "cell_type": "code",
   "execution_count": 1,
   "metadata": {},
   "outputs": [],
   "source": [
    "import os\n",
    "import json\n",
    "import random\n",
    "import pandas as pd\n",
    "from sklearn.model_selection import train_test_split\n",
    "from datasets import Dataset, DatasetDict, load_dataset\n",
    "\n"
   ]
  },
  {
   "cell_type": "code",
   "execution_count": 2,
   "metadata": {},
   "outputs": [
    {
     "name": "stdout",
     "output_type": "stream",
     "text": [
      "Total ID count: 200\n",
      "avg of turns per ID: 7.235\n"
     ]
    }
   ],
   "source": [
    "# 총 몇 개의 ID가 있는지 파악\n",
    "name = []\n",
    "for i in range(len(data)):\n",
    "    name.append(data[i][\"ID\"])\n",
    "\n",
    "print(f\"Total ID count: {len(set(name))}\")\n",
    "\n",
    "# 평균적으로 한 ID당 turn 개수\n",
    "from collections import Counter\n",
    "count = Counter(name)\n",
    "avg = sum(count.values())/len(count)\n",
    "print(f\"avg of turns per ID: {avg}\")"
   ]
  },
  {
   "cell_type": "code",
   "execution_count": 240,
   "metadata": {},
   "outputs": [],
   "source": [
    "# belief state 딕셔너리 형식\n",
    "def make_questions_bf_dict(data):\n",
    "    questions = []\n",
    "    for i in range(len(data)):\n",
    "        dial_sys = data[i]['dialog']['sys'][-1]\n",
    "        dial_usr = data[i]['dialog']['usr'][-1]\n",
    "        belief = str(data[i]['last_slot_values'])\n",
    "        dial = \"[belief] \" + belief + \" [system] \" + dial_sys + \" [user] \" + dial_usr\n",
    "        questions.append(dial)\n",
    "    return questions\n"
   ]
  },
  {
   "cell_type": "code",
   "execution_count": 294,
   "metadata": {},
   "outputs": [],
   "source": [
    "# belief state 문장 형식\n",
    "def make_questions(data):\n",
    "    questions = []\n",
    "    for i in range(len(data)):\n",
    "        dial_sys = data[i]['dialog']['sys'][-1]\n",
    "        dial_usr = data[i]['dialog']['usr'][-1]\n",
    "\n",
    "        items = [f\"{key} is {value}\" for key, value in data[i]['last_slot_values'].items()]\n",
    "        belief = \", \".join(items)\n",
    "        if belief==\"\":\n",
    "            belief=\"no belief state\"\n",
    "\n",
    "        dial = \"[belief] \" + belief + \" [system] \" + dial_sys + \" [user] \" + dial_usr\n",
    "        questions.append(dial)\n",
    "    return questions\n",
    "\n",
    "questions = make_questions(data)"
   ]
  },
  {
   "cell_type": "code",
   "execution_count": 287,
   "metadata": {},
   "outputs": [],
   "source": [
    "def make_chosen(data):\n",
    "    chosen = []\n",
    "    for i in range(len(data)):\n",
    "        dial_sys = data[i]['best_example'][0]['dialog']['sys'][-1]\n",
    "        dial_usr = data[i]['best_example'][0]['dialog']['usr'][-1]\n",
    "        items = [f\"{key} is {value}\" for key, value in data[i]['best_example'][0]['last_slot_values'].items()]\n",
    "        belief = \", \".join(items)\n",
    "        if belief==\"\":\n",
    "            belief=\"no belief state\"\n",
    "        dial = \"[belief] \" + belief + \" [system] \" + dial_sys + \" [user] \" + dial_usr\n",
    "        chosen.append(dial)\n",
    "    return chosen\n",
    "\n",
    "chosen = make_chosen(data)"
   ]
  },
  {
   "cell_type": "code",
   "execution_count": 284,
   "metadata": {},
   "outputs": [],
   "source": [
    "import random\n",
    "\n",
    "def make_rejected(data):\n",
    "    fullset = [f\"{item['ID']}_turn_{item['turn_id']}\" for item in data]\n",
    "    rejected = []\n",
    "    for i in range(len(data)):\n",
    "        best100 = data[i]['sampling_exp']['scores'][0]['occurence'].keys()\n",
    "        negative_set = [id_turn for id_turn in fullset if id_turn not in best100]\n",
    "        negative_one = random.choice(negative_set)\n",
    "\n",
    "        for idx, turn in enumerate(data):\n",
    "            if f\"{turn['ID']}_turn_{turn['turn_id']}\" == negative_one:\n",
    "                break\n",
    "\n",
    "        dial_sys = data[idx]['dialog']['sys'][-1]\n",
    "        dial_usr = data[idx]['dialog']['usr'][-1]\n",
    "        items = [f\"{key} is {value}\" for key, value in data[idx]['last_slot_values'].items()]\n",
    "        belief = \", \".join(items)\n",
    "        if belief==\"\":\n",
    "            belief=\"no belief state\"\n",
    "        dial = \"[belief] \" + belief + \" [system] \" + dial_sys + \" [user] \" + dial_usr\n",
    "        rejected.append(dial)\n",
    "    return rejected\n",
    "\n",
    "rejected = make_rejected(data)"
   ]
  },
  {
   "cell_type": "code",
   "execution_count": 301,
   "metadata": {},
   "outputs": [
    {
     "name": "stdout",
     "output_type": "stream",
     "text": [
      "train size: 1157, eval size: 290\n"
     ]
    }
   ],
   "source": [
    "comb = {'question':questions,\n",
    "      'chosen':chosen,\n",
    "      'rejected':rejected}\n",
    "df = pd.DataFrame(comb)\n",
    "train_df, eval_df = train_test_split(df, test_size=0.2, random_state=42, shuffle=True)\n",
    "print(f\"train size: {len(train_df)}, eval size: {len(eval_df)}\")\n"
   ]
  },
  {
   "cell_type": "code",
   "execution_count": 303,
   "metadata": {},
   "outputs": [
    {
     "data": {
      "application/vnd.jupyter.widget-view+json": {
       "model_id": "418abf92cf8b4089835610173f2d60c5",
       "version_major": 2,
       "version_minor": 0
      },
      "text/plain": [
       "Generating train split: 0 examples [00:00, ? examples/s]"
      ]
     },
     "metadata": {},
     "output_type": "display_data"
    },
    {
     "data": {
      "application/vnd.jupyter.widget-view+json": {
       "model_id": "08a9e0cbe8294f7b9ff85d7550eafe9f",
       "version_major": 2,
       "version_minor": 0
      },
      "text/plain": [
       "Generating train split: 0 examples [00:00, ? examples/s]"
      ]
     },
     "metadata": {},
     "output_type": "display_data"
    }
   ],
   "source": [
    "train_df.to_parquet('train_data.parquet', engine='pyarrow')\n",
    "eval_df.to_parquet('eval_data.parquet', engine='pyarrow')\n",
    "\n",
    "train_dataset = Dataset.from_parquet('train_data.parquet')\n",
    "eval_dataset = Dataset.from_parquet('eval_data.parquet')\n",
    "\n",
    "dataset_dict = DatasetDict({\n",
    "    'train': train_dataset,\n",
    "    'eval': eval_dataset\n",
    "})"
   ]
  },
  {
   "cell_type": "code",
   "execution_count": 307,
   "metadata": {},
   "outputs": [
    {
     "data": {
      "application/vnd.jupyter.widget-view+json": {
       "model_id": "d06ecad532144fe4b25cb4483e10bd25",
       "version_major": 2,
       "version_minor": 0
      },
      "text/plain": [
       "Uploading the dataset shards:   0%|          | 0/1 [00:00<?, ?it/s]"
      ]
     },
     "metadata": {},
     "output_type": "display_data"
    },
    {
     "data": {
      "application/vnd.jupyter.widget-view+json": {
       "model_id": "4771ace5ab9f49f68f34544fb6dfca27",
       "version_major": 2,
       "version_minor": 0
      },
      "text/plain": [
       "Creating parquet from Arrow format:   0%|          | 0/2 [00:00<?, ?ba/s]"
      ]
     },
     "metadata": {},
     "output_type": "display_data"
    },
    {
     "data": {
      "application/vnd.jupyter.widget-view+json": {
       "model_id": "d62a33bd86a143188ce8642bfa139f4f",
       "version_major": 2,
       "version_minor": 0
      },
      "text/plain": [
       "Uploading the dataset shards:   0%|          | 0/1 [00:00<?, ?it/s]"
      ]
     },
     "metadata": {},
     "output_type": "display_data"
    },
    {
     "data": {
      "application/vnd.jupyter.widget-view+json": {
       "model_id": "0a5dca2584314968a68c0e672dc22397",
       "version_major": 2,
       "version_minor": 0
      },
      "text/plain": [
       "Creating parquet from Arrow format:   0%|          | 0/1 [00:00<?, ?ba/s]"
      ]
     },
     "metadata": {},
     "output_type": "display_data"
    },
    {
     "data": {
      "text/plain": [
       "CommitInfo(commit_url='https://huggingface.co/datasets/anthj/dpo_mw/commit/2e6e5b8cb61703a82afa75897545dbb492e9340b', commit_message='Upload dataset', commit_description='', oid='2e6e5b8cb61703a82afa75897545dbb492e9340b', pr_url=None, pr_revision=None, pr_num=None)"
      ]
     },
     "execution_count": 307,
     "metadata": {},
     "output_type": "execute_result"
    }
   ],
   "source": [
    "# Push the dataset to Hugging Face Hub\n",
    "# dataset_dict.push_to_hub('anthj/dpo_mw')"
   ]
  }
 ],
 "metadata": {
  "kernelspec": {
   "display_name": "ref",
   "language": "python",
   "name": "python3"
  },
  "language_info": {
   "codemirror_mode": {
    "name": "ipython",
    "version": 3
   },
   "file_extension": ".py",
   "mimetype": "text/x-python",
   "name": "python",
   "nbconvert_exporter": "python",
   "pygments_lexer": "ipython3",
   "version": "3.8.19"
  }
 },
 "nbformat": 4,
 "nbformat_minor": 2
}
