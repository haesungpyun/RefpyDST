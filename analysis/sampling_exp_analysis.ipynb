{
 "cells": [
  {
   "cell_type": "code",
   "execution_count": 1,
   "metadata": {},
   "outputs": [
    {
     "name": "stderr",
     "output_type": "stream",
     "text": [
      "/home/haesungpyun/anaconda3/envs/torch2.1_clone/lib/python3.10/site-packages/fuzzywuzzy/fuzz.py:11: UserWarning: Using slow pure-python SequenceMatcher. Install python-Levenshtein to remove this warning\n",
      "  warnings.warn('Using slow pure-python SequenceMatcher. Install python-Levenshtein to remove this warning')\n"
     ]
    }
   ],
   "source": [
    "import json \n",
    "import copy\n",
    "from collections import defaultdict, Counter\n",
    "\n",
    "from refpydst.prompt_formats.python.completion_parser import parse_python_completion\n",
    "from refpydst.normalization.data_ontology_normalizer import DataOntologyNormalizer\n",
    "from refpydst.db.ontology import Ontology\n"
   ]
  },
  {
   "cell_type": "code",
   "execution_count": 3,
   "metadata": {},
   "outputs": [
    {
     "name": "stderr",
     "output_type": "stream",
     "text": [
      "mapping supervised_set surface forms...: 100%|██████████| 2731/2731 [00:07<00:00, 383.33it/s]\n",
      "reading surface forms from ontology.json: 100%|██████████| 31/31 [00:04<00:00,  6.67it/s]\n"
     ]
    }
   ],
   "source": [
    "with open('../data/mw21_5p_train_v1.json', 'r') as f:\n",
    "    train_data = json.load(f)\n",
    "    \n",
    "normalizer = DataOntologyNormalizer(\n",
    "        Ontology.create_ontology(),\n",
    "        # count labels from the train set\n",
    "        supervised_set=train_data,\n",
    "        # make use of existing surface form knowledge encoded in ontology.json, released with each dataset\n",
    "        # see README.json within https://github.com/smartyfh/MultiWOZ2.4/raw/main/data/MULTIWOZ2.4.zip\n",
    "        counts_from_ontology_file=\"../src/refpydst/db/multiwoz/2.4/ontology.json\"\n",
    ")"
   ]
  },
  {
   "cell_type": "code",
   "execution_count": 2,
   "metadata": {},
   "outputs": [],
   "source": [
    "with open('../outputs/runs/table4/5p/smapling_exp/split_v1_topk_bm/running_log.json', 'r') as f:\n",
    "    logs = json.load(f)\n",
    "with open('../data/log.json', 'r') as f:\n",
    "    new_logs = json.load(f)"
   ]
  },
  {
   "cell_type": "code",
   "execution_count": 5,
   "metadata": {},
   "outputs": [],
   "source": [
    "def compute_jga(prediction, gold):   \n",
    "    for key in gold.keys():\n",
    "        # if the gold value supports multiple ground truth values, and we predicted one, set the single-gold value to\n",
    "        # the one we predicted.\n",
    "        if '|' in gold[key]:\n",
    "            gold_values = gold[key].split('|')\n",
    "            if key in prediction and prediction[key] in gold_values:\n",
    "                gold[key] = prediction[key]\n",
    "\n",
    "    # joint-goal can be computed with dict match\n",
    "    return 1 if prediction == gold else 0"
   ]
  },
  {
   "cell_type": "code",
   "execution_count": null,
   "metadata": {},
   "outputs": [],
   "source": []
  },
  {
   "cell_type": "code",
   "execution_count": null,
   "metadata": {},
   "outputs": [],
   "source": [
    "for log in logs:\n",
    "    retrieved_example_ids = [x[0]+'_turn_'+str(x[1]) for x in log['examples']]\n",
    "    \n",
    "    for exp in log['sampling_exp']['exp']:\n",
    "        for idx, iteration in enumerate(exp):\n",
    "            iter_scores = {}\n",
    "            for key in ['occurence', 'score_delta', 'score_full', 'influence_delta', 'influence_full']:\n",
    "                iter_scores[key] = {ids: 0 for ids in log['sampling_exp']['scores'][0]['occurence']}\n",
    "            for step in exp[iteration]:\n",
    "                example_ids = [x[0]+'_turn_'+str(x[1]) for x in step['examples']]\n",
    "                num_sub_group = len(retrieved_example_ids)//len(example_ids)\n",
    "                \n",
    "                pred = step['pred']\n",
    "                pred_delta = parse_python_completion(step['completion'], {})\n",
    "                pred_delta = normalizer.normalize(pred_delta)\n",
    "\n",
    "                delta_jga = compute_jga(pred_delta, log['turn_slot_values'])\n",
    "                full_jga = compute_jga(pred, log['slot_values'])\n",
    "                for ex_id in example_ids:\n",
    "                    iter_scores['occurence'][ex_id] += 1\n",
    "                    for key in ['score_delta', 'score_full', 'influence_delta', 'influence_full']:\n",
    "                        iter_scores[key][ex_id] += delta_jga if 'delta' in key else full_jga\n",
    "\n",
    "                for neg_ex_id in set(retrieved_example_ids) - set(example_ids):\n",
    "                    iter_scores['influence_delta'][neg_ex_id] -= (1/(num_sub_group-1))*delta_jga\n",
    "                    iter_scores['influence_full'][neg_ex_id] -= (1/(num_sub_group-1))*full_jga\n",
    "            \n",
    "            log['sampling_exp']['scores'].append(iter_scores)\n",
    "            log['sampling_exp']['scores'].pop(0)\n",
    "    log['final_scores'] = {}\n",
    "    for score_idx, scores in enumerate(log['sampling_exp']['scores']):\n",
    "        for key in scores:\n",
    "            if key not in log['final_scores']:\n",
    "                log['final_scores'][key] = copy.deepcopy(scores[key])\n",
    "            else:\n",
    "                for ex_id in retrieved_example_ids:\n",
    "                    log['final_scores'][key][ex_id] += scores[key][ex_id]\n",
    "    \n",
    "    best_ex_id_score = Counter(log['final_scores']['score_delta']).most_common(10)\n",
    "    best_examples = []\n",
    "    for example_id, _ in best_ex_id_score:\n",
    "        example = list(filter(lambda x: x[\"ID\"]+'_turn_'+str(x['turn_id']) == example_id, train_data))[0]\n",
    "        best_examples.append(example)\n",
    "    log['best_example'] = best_examples[::-1]"
   ]
  },
  {
   "cell_type": "code",
   "execution_count": 37,
   "metadata": {},
   "outputs": [
    {
     "data": {
      "text/plain": [
       "True"
      ]
     },
     "execution_count": 37,
     "metadata": {},
     "output_type": "execute_result"
    }
   ],
   "source": []
  },
  {
   "cell_type": "code",
   "execution_count": null,
   "metadata": {},
   "outputs": [],
   "source": []
  }
 ],
 "metadata": {
  "kernelspec": {
   "display_name": "torch2.1_clone",
   "language": "python",
   "name": "python3"
  },
  "language_info": {
   "codemirror_mode": {
    "name": "ipython",
    "version": 3
   },
   "file_extension": ".py",
   "mimetype": "text/x-python",
   "name": "python",
   "nbconvert_exporter": "python",
   "pygments_lexer": "ipython3",
   "version": "3.10.13"
  }
 },
 "nbformat": 4,
 "nbformat_minor": 2
}
